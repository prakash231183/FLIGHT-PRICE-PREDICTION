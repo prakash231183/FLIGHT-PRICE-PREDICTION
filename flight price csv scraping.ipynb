{
 "cells": [
  {
   "cell_type": "code",
   "execution_count": 12,
   "id": "df6b43cf",
   "metadata": {},
   "outputs": [],
   "source": [
    "# Importing Libraries/Dependencies\n",
    "import selenium\n",
    "import pandas as pd\n",
    "from selenium import webdriver\n",
    "from bs4 import BeautifulSoup\n",
    "import requests\n",
    "import time\n",
    "from selenium.common.exceptions import NoSuchElementException\n",
    "from selenium.webdriver.common.keys import Keys\n",
    "from selenium.webdriver.common.by import By\n",
    "import warnings\n",
    "warnings.filterwarnings('ignore')"
   ]
  },
  {
   "cell_type": "code",
   "execution_count": 15,
   "id": "443e63c7",
   "metadata": {},
   "outputs": [],
   "source": [
    "driver = webdriver.Chrome(r\"C:\\Users\\HP\\Downloads\\chromedriver.exe\")\n",
    "time.sleep(2)\n",
    "driver.maximize_window()"
   ]
  },
  {
   "cell_type": "code",
   "execution_count": 16,
   "id": "6e79980e",
   "metadata": {},
   "outputs": [],
   "source": [
    " driver.get(\"https://paytm.com/\")\n",
    "    #opening website from where we need to fetch data"
   ]
  },
  {
   "cell_type": "code",
   "execution_count": 17,
   "id": "5e14ca75",
   "metadata": {},
   "outputs": [],
   "source": [
    "for i in driver.find_elements(By.XPATH,'/html/body/div[1]/div/section[4]/div/div/div/div[2]'):\n",
    "    i.click()"
   ]
  },
  {
   "cell_type": "code",
   "execution_count": 18,
   "id": "96405315",
   "metadata": {},
   "outputs": [],
   "source": [
    "driver.get(\"https://paytm.com/flights/flightSearch/BLR-Bengaluru/PNQ-Pune/1/0/0/E/2023-01-20\")"
   ]
  },
  {
   "cell_type": "code",
   "execution_count": 20,
   "id": "cd10dfe6",
   "metadata": {},
   "outputs": [],
   "source": [
    "urls=[]\n",
    "sou=[\"BLR-Bengaluru\",\"CCU-Kolkata\"]# passing source location\n",
    "location = [\"DEL-Delhi\",\"PNQ-Pune\",\"MAA-Chennai\",\"HYD-Hyderabad\"] #passing destination \n",
    "# passing random date on which flight is schedule\n",
    "date_list=[\"2023-02-26\",\"2022-03-07\",\"2023-03-13\",\"2023-03-20\",\"2023-03-29\",\"2023-04-06\",\"2023-03-25\",\"2023-04-01\"]\n",
    "for i in range(0,2):\n",
    "    for j in range(0,4):\n",
    "            for k in range(0,8):\n",
    "                url=\"https://paytm.com/flights/flightSearch/\"+sou[i]+\"/\"+location[j]+\"/1/0/0/E/\"+date_list[k] #as url is a string we can manipulate it and make changes according to our needs\n",
    "                urls.append(url)"
   ]
  },
  {
   "cell_type": "code",
   "execution_count": 21,
   "id": "3a0da745",
   "metadata": {},
   "outputs": [
    {
     "data": {
      "text/plain": [
       "64"
      ]
     },
     "execution_count": 21,
     "metadata": {},
     "output_type": "execute_result"
    }
   ],
   "source": [
    "len(urls)#checking len of url how many url we have fetched"
   ]
  },
  {
   "cell_type": "code",
   "execution_count": 22,
   "id": "fe895638",
   "metadata": {},
   "outputs": [],
   "source": [
    "# making list of features i am going to fetch \n",
    "name=[]\n",
    "departure_time=[]\n",
    "arrival_time=[]\n",
    "dur=[]\n",
    "price=[]\n",
    "stop=[]\n",
    "place=[]\n",
    "date=[]\n",
    "for url in urls:\n",
    "    driver.get(url)\n",
    "    time.sleep(5)\n",
    "    \n",
    "    for k in driver.find_elements(By.XPATH,'//div[@class=\"_3H-S _1Eia\"]'):\n",
    "        name.append(k.text)\n",
    "            \n",
    "    for k in driver.find_elements(By.XPATH,'//div[@class=\"_3H-S\"]'):\n",
    "        departure_time.append(k.text)\n",
    "        \n",
    "    for i in driver.find_elements(By.XPATH,'//div[@class=\"_3H-S _1wD5\"]'):\n",
    "        arrival_time.append(i.text.split(\"\\n\")[0])\n",
    "        \n",
    "    for i in driver.find_elements(By.XPATH,'//div[@class=\"vY4t\"]'):\n",
    "        dur.append(i.text)\n",
    "        \n",
    "    for i in driver.find_elements(By.XPATH,'//div[@class=\"_1cxG\"]'):\n",
    "        price.append(int(i.text.replace(\",\",\"\")))\n",
    "        \n",
    "    for i in driver.find_elements(By.XPATH,'//div[@class=\"_7BOG\"]'):\n",
    "        stop.append(i.text.split()[0])\n",
    "        \n",
    "    for i in driver.find_elements(By.XPATH,'//div[@class=\"NqXj\"]'):\n",
    "        place.append(i.text)\n",
    "        \n",
    "    for i in range(0,len(driver.find_elements(By.XPATH,'//div[@class=\"_1cxG\"]'))):\n",
    "               date.append(url.split('/')[11])"
   ]
  },
  {
   "cell_type": "code",
   "execution_count": 23,
   "id": "d082cbba",
   "metadata": {},
   "outputs": [],
   "source": [
    "source=place[0::2]\n",
    "destination=place[1::2]"
   ]
  },
  {
   "cell_type": "code",
   "execution_count": 24,
   "id": "144cb6ee",
   "metadata": {},
   "outputs": [
    {
     "name": "stdout",
     "output_type": "stream",
     "text": [
      "6833 6833 6833 6833 6833 6833 6833 6833\n"
     ]
    }
   ],
   "source": [
    "print(len(arrival_time),len(dur),len(price),len(name),len(departure_time),len(source),len(destination),len(date))"
   ]
  },
  {
   "cell_type": "code",
   "execution_count": 25,
   "id": "2eaefbd3",
   "metadata": {},
   "outputs": [],
   "source": [
    "# this is the dataframe i have fetched from the above website\n",
    "flight=pd.DataFrame({\"Flight name\":name,\n",
    "                 \"Departure_time\":departure_time,\n",
    "                 \"Arrival_time\":arrival_time,\n",
    "                 \"Price\":price,\n",
    "                 \"Source\":source,\n",
    "                 \"Destination\":destination,\n",
    "                  \"Duration\":dur,\n",
    "                 \"No of stop\":stop,\n",
    "                 \"Date\":date})"
   ]
  },
  {
   "cell_type": "code",
   "execution_count": 26,
   "id": "9c9b7396",
   "metadata": {},
   "outputs": [
    {
     "data": {
      "text/html": [
       "<div>\n",
       "<style scoped>\n",
       "    .dataframe tbody tr th:only-of-type {\n",
       "        vertical-align: middle;\n",
       "    }\n",
       "\n",
       "    .dataframe tbody tr th {\n",
       "        vertical-align: top;\n",
       "    }\n",
       "\n",
       "    .dataframe thead th {\n",
       "        text-align: right;\n",
       "    }\n",
       "</style>\n",
       "<table border=\"1\" class=\"dataframe\">\n",
       "  <thead>\n",
       "    <tr style=\"text-align: right;\">\n",
       "      <th></th>\n",
       "      <th>Flight name</th>\n",
       "      <th>Departure_time</th>\n",
       "      <th>Arrival_time</th>\n",
       "      <th>Price</th>\n",
       "      <th>Source</th>\n",
       "      <th>Destination</th>\n",
       "      <th>Duration</th>\n",
       "      <th>No of stop</th>\n",
       "      <th>Date</th>\n",
       "    </tr>\n",
       "  </thead>\n",
       "  <tbody>\n",
       "    <tr>\n",
       "      <th>0</th>\n",
       "      <td>Air Asia</td>\n",
       "      <td>22:40</td>\n",
       "      <td>01:25</td>\n",
       "      <td>4537</td>\n",
       "      <td>Bengaluru</td>\n",
       "      <td>Delhi</td>\n",
       "      <td>2h 45m</td>\n",
       "      <td>Non</td>\n",
       "      <td>2023-02-26</td>\n",
       "    </tr>\n",
       "    <tr>\n",
       "      <th>1</th>\n",
       "      <td>Air Asia</td>\n",
       "      <td>06:05</td>\n",
       "      <td>08:55</td>\n",
       "      <td>4537</td>\n",
       "      <td>Bengaluru</td>\n",
       "      <td>Delhi</td>\n",
       "      <td>2h 50m</td>\n",
       "      <td>Non</td>\n",
       "      <td>2023-02-26</td>\n",
       "    </tr>\n",
       "    <tr>\n",
       "      <th>2</th>\n",
       "      <td>SpiceJet</td>\n",
       "      <td>19:30</td>\n",
       "      <td>22:15</td>\n",
       "      <td>5235</td>\n",
       "      <td>Bengaluru</td>\n",
       "      <td>Delhi</td>\n",
       "      <td>2h 45m</td>\n",
       "      <td>Non</td>\n",
       "      <td>2023-02-26</td>\n",
       "    </tr>\n",
       "    <tr>\n",
       "      <th>3</th>\n",
       "      <td>IndiGo</td>\n",
       "      <td>18:00</td>\n",
       "      <td>20:50</td>\n",
       "      <td>5236</td>\n",
       "      <td>Bengaluru</td>\n",
       "      <td>Delhi</td>\n",
       "      <td>2h 50m</td>\n",
       "      <td>Non</td>\n",
       "      <td>2023-02-26</td>\n",
       "    </tr>\n",
       "    <tr>\n",
       "      <th>4</th>\n",
       "      <td>IndiGo</td>\n",
       "      <td>07:00</td>\n",
       "      <td>09:50</td>\n",
       "      <td>5236</td>\n",
       "      <td>Bengaluru</td>\n",
       "      <td>Delhi</td>\n",
       "      <td>2h 50m</td>\n",
       "      <td>Non</td>\n",
       "      <td>2023-02-26</td>\n",
       "    </tr>\n",
       "    <tr>\n",
       "      <th>...</th>\n",
       "      <td>...</td>\n",
       "      <td>...</td>\n",
       "      <td>...</td>\n",
       "      <td>...</td>\n",
       "      <td>...</td>\n",
       "      <td>...</td>\n",
       "      <td>...</td>\n",
       "      <td>...</td>\n",
       "      <td>...</td>\n",
       "    </tr>\n",
       "    <tr>\n",
       "      <th>6828</th>\n",
       "      <td>IndiGo</td>\n",
       "      <td>04:40</td>\n",
       "      <td>10:45</td>\n",
       "      <td>18914</td>\n",
       "      <td>Kolkata</td>\n",
       "      <td>Hyderabad</td>\n",
       "      <td>6h 5m</td>\n",
       "      <td>1</td>\n",
       "      <td>2023-04-01</td>\n",
       "    </tr>\n",
       "    <tr>\n",
       "      <th>6829</th>\n",
       "      <td>IndiGo</td>\n",
       "      <td>14:25</td>\n",
       "      <td>20:35</td>\n",
       "      <td>18914</td>\n",
       "      <td>Kolkata</td>\n",
       "      <td>Hyderabad</td>\n",
       "      <td>6h 10m</td>\n",
       "      <td>1</td>\n",
       "      <td>2023-04-01</td>\n",
       "    </tr>\n",
       "    <tr>\n",
       "      <th>6830</th>\n",
       "      <td>IndiGo</td>\n",
       "      <td>10:45</td>\n",
       "      <td>17:20</td>\n",
       "      <td>18914</td>\n",
       "      <td>Kolkata</td>\n",
       "      <td>Hyderabad</td>\n",
       "      <td>6h 35m</td>\n",
       "      <td>1</td>\n",
       "      <td>2023-04-01</td>\n",
       "    </tr>\n",
       "    <tr>\n",
       "      <th>6831</th>\n",
       "      <td>IndiGo</td>\n",
       "      <td>10:45</td>\n",
       "      <td>17:55</td>\n",
       "      <td>18914</td>\n",
       "      <td>Kolkata</td>\n",
       "      <td>Hyderabad</td>\n",
       "      <td>7h 10m</td>\n",
       "      <td>1</td>\n",
       "      <td>2023-04-01</td>\n",
       "    </tr>\n",
       "    <tr>\n",
       "      <th>6832</th>\n",
       "      <td>IndiGo</td>\n",
       "      <td>12:45</td>\n",
       "      <td>19:05</td>\n",
       "      <td>22556</td>\n",
       "      <td>Kolkata</td>\n",
       "      <td>Hyderabad</td>\n",
       "      <td>6h 20m</td>\n",
       "      <td>1</td>\n",
       "      <td>2023-04-01</td>\n",
       "    </tr>\n",
       "  </tbody>\n",
       "</table>\n",
       "<p>6833 rows × 9 columns</p>\n",
       "</div>"
      ],
      "text/plain": [
       "     Flight name Departure_time Arrival_time  Price     Source Destination  \\\n",
       "0       Air Asia          22:40        01:25   4537  Bengaluru       Delhi   \n",
       "1       Air Asia          06:05        08:55   4537  Bengaluru       Delhi   \n",
       "2       SpiceJet          19:30        22:15   5235  Bengaluru       Delhi   \n",
       "3         IndiGo          18:00        20:50   5236  Bengaluru       Delhi   \n",
       "4         IndiGo          07:00        09:50   5236  Bengaluru       Delhi   \n",
       "...          ...            ...          ...    ...        ...         ...   \n",
       "6828      IndiGo          04:40        10:45  18914    Kolkata   Hyderabad   \n",
       "6829      IndiGo          14:25        20:35  18914    Kolkata   Hyderabad   \n",
       "6830      IndiGo          10:45        17:20  18914    Kolkata   Hyderabad   \n",
       "6831      IndiGo          10:45        17:55  18914    Kolkata   Hyderabad   \n",
       "6832      IndiGo          12:45        19:05  22556    Kolkata   Hyderabad   \n",
       "\n",
       "     Duration No of stop        Date  \n",
       "0      2h 45m        Non  2023-02-26  \n",
       "1      2h 50m        Non  2023-02-26  \n",
       "2      2h 45m        Non  2023-02-26  \n",
       "3      2h 50m        Non  2023-02-26  \n",
       "4      2h 50m        Non  2023-02-26  \n",
       "...       ...        ...         ...  \n",
       "6828    6h 5m          1  2023-04-01  \n",
       "6829   6h 10m          1  2023-04-01  \n",
       "6830   6h 35m          1  2023-04-01  \n",
       "6831   7h 10m          1  2023-04-01  \n",
       "6832   6h 20m          1  2023-04-01  \n",
       "\n",
       "[6833 rows x 9 columns]"
      ]
     },
     "execution_count": 26,
     "metadata": {},
     "output_type": "execute_result"
    }
   ],
   "source": [
    "flight"
   ]
  },
  {
   "cell_type": "code",
   "execution_count": 27,
   "id": "8e1b0426",
   "metadata": {},
   "outputs": [],
   "source": [
    "flight.to_csv(\"flight_fare.csv\")#saving dataframe to csv format"
   ]
  },
  {
   "cell_type": "code",
   "execution_count": null,
   "id": "0d0fa31a",
   "metadata": {},
   "outputs": [],
   "source": []
  }
 ],
 "metadata": {
  "kernelspec": {
   "display_name": "Python 3 (ipykernel)",
   "language": "python",
   "name": "python3"
  },
  "language_info": {
   "codemirror_mode": {
    "name": "ipython",
    "version": 3
   },
   "file_extension": ".py",
   "mimetype": "text/x-python",
   "name": "python",
   "nbconvert_exporter": "python",
   "pygments_lexer": "ipython3",
   "version": "3.9.12"
  }
 },
 "nbformat": 4,
 "nbformat_minor": 5
}
